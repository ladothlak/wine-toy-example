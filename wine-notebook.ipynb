{
 "cells": [
  {
   "cell_type": "code",
   "execution_count": 60,
   "metadata": {},
   "outputs": [],
   "source": [
    "import pandas as pd\n",
    "import xgboost\n",
    "import numpy as np\n",
    "import torch\n",
    "from shap import GradientExplainer\n",
    "import matplotlib.pyplot as plt"
   ]
  },
  {
   "cell_type": "code",
   "execution_count": 2,
   "metadata": {},
   "outputs": [],
   "source": [
    "wine_df = pd.read_csv('winequality.csv')"
   ]
  },
  {
   "cell_type": "code",
   "execution_count": 3,
   "metadata": {},
   "outputs": [
    {
     "data": {
      "text/html": [
       "<div>\n",
       "<style scoped>\n",
       "    .dataframe tbody tr th:only-of-type {\n",
       "        vertical-align: middle;\n",
       "    }\n",
       "\n",
       "    .dataframe tbody tr th {\n",
       "        vertical-align: top;\n",
       "    }\n",
       "\n",
       "    .dataframe thead th {\n",
       "        text-align: right;\n",
       "    }\n",
       "</style>\n",
       "<table border=\"1\" class=\"dataframe\">\n",
       "  <thead>\n",
       "    <tr style=\"text-align: right;\">\n",
       "      <th></th>\n",
       "      <th>fixed acidity</th>\n",
       "      <th>volatile acidity</th>\n",
       "      <th>citric acid</th>\n",
       "      <th>residual sugar</th>\n",
       "      <th>chlorides</th>\n",
       "      <th>free sulfur dioxide</th>\n",
       "      <th>total sulfur dioxide</th>\n",
       "      <th>density</th>\n",
       "      <th>pH</th>\n",
       "      <th>sulphates</th>\n",
       "      <th>alcohol</th>\n",
       "      <th>quality</th>\n",
       "    </tr>\n",
       "  </thead>\n",
       "  <tbody>\n",
       "    <tr>\n",
       "      <td>0</td>\n",
       "      <td>7.4</td>\n",
       "      <td>0.700</td>\n",
       "      <td>0.00</td>\n",
       "      <td>1.9</td>\n",
       "      <td>0.076</td>\n",
       "      <td>11.0</td>\n",
       "      <td>34.0</td>\n",
       "      <td>0.99780</td>\n",
       "      <td>3.51</td>\n",
       "      <td>0.56</td>\n",
       "      <td>9.4</td>\n",
       "      <td>5</td>\n",
       "    </tr>\n",
       "    <tr>\n",
       "      <td>1</td>\n",
       "      <td>7.8</td>\n",
       "      <td>0.880</td>\n",
       "      <td>0.00</td>\n",
       "      <td>2.6</td>\n",
       "      <td>0.098</td>\n",
       "      <td>25.0</td>\n",
       "      <td>67.0</td>\n",
       "      <td>0.99680</td>\n",
       "      <td>3.20</td>\n",
       "      <td>0.68</td>\n",
       "      <td>9.8</td>\n",
       "      <td>5</td>\n",
       "    </tr>\n",
       "    <tr>\n",
       "      <td>2</td>\n",
       "      <td>7.8</td>\n",
       "      <td>0.760</td>\n",
       "      <td>0.04</td>\n",
       "      <td>2.3</td>\n",
       "      <td>0.092</td>\n",
       "      <td>15.0</td>\n",
       "      <td>54.0</td>\n",
       "      <td>0.99700</td>\n",
       "      <td>3.26</td>\n",
       "      <td>0.65</td>\n",
       "      <td>9.8</td>\n",
       "      <td>5</td>\n",
       "    </tr>\n",
       "    <tr>\n",
       "      <td>3</td>\n",
       "      <td>11.2</td>\n",
       "      <td>0.280</td>\n",
       "      <td>0.56</td>\n",
       "      <td>1.9</td>\n",
       "      <td>0.075</td>\n",
       "      <td>17.0</td>\n",
       "      <td>60.0</td>\n",
       "      <td>0.99800</td>\n",
       "      <td>3.16</td>\n",
       "      <td>0.58</td>\n",
       "      <td>9.8</td>\n",
       "      <td>6</td>\n",
       "    </tr>\n",
       "    <tr>\n",
       "      <td>4</td>\n",
       "      <td>7.4</td>\n",
       "      <td>0.700</td>\n",
       "      <td>0.00</td>\n",
       "      <td>1.9</td>\n",
       "      <td>0.076</td>\n",
       "      <td>11.0</td>\n",
       "      <td>34.0</td>\n",
       "      <td>0.99780</td>\n",
       "      <td>3.51</td>\n",
       "      <td>0.56</td>\n",
       "      <td>9.4</td>\n",
       "      <td>5</td>\n",
       "    </tr>\n",
       "    <tr>\n",
       "      <td>...</td>\n",
       "      <td>...</td>\n",
       "      <td>...</td>\n",
       "      <td>...</td>\n",
       "      <td>...</td>\n",
       "      <td>...</td>\n",
       "      <td>...</td>\n",
       "      <td>...</td>\n",
       "      <td>...</td>\n",
       "      <td>...</td>\n",
       "      <td>...</td>\n",
       "      <td>...</td>\n",
       "      <td>...</td>\n",
       "    </tr>\n",
       "    <tr>\n",
       "      <td>1594</td>\n",
       "      <td>6.2</td>\n",
       "      <td>0.600</td>\n",
       "      <td>0.08</td>\n",
       "      <td>2.0</td>\n",
       "      <td>0.090</td>\n",
       "      <td>32.0</td>\n",
       "      <td>44.0</td>\n",
       "      <td>0.99490</td>\n",
       "      <td>3.45</td>\n",
       "      <td>0.58</td>\n",
       "      <td>10.5</td>\n",
       "      <td>5</td>\n",
       "    </tr>\n",
       "    <tr>\n",
       "      <td>1595</td>\n",
       "      <td>5.9</td>\n",
       "      <td>0.550</td>\n",
       "      <td>0.10</td>\n",
       "      <td>2.2</td>\n",
       "      <td>0.062</td>\n",
       "      <td>39.0</td>\n",
       "      <td>51.0</td>\n",
       "      <td>0.99512</td>\n",
       "      <td>3.52</td>\n",
       "      <td>0.76</td>\n",
       "      <td>11.2</td>\n",
       "      <td>6</td>\n",
       "    </tr>\n",
       "    <tr>\n",
       "      <td>1596</td>\n",
       "      <td>6.3</td>\n",
       "      <td>0.510</td>\n",
       "      <td>0.13</td>\n",
       "      <td>2.3</td>\n",
       "      <td>0.076</td>\n",
       "      <td>29.0</td>\n",
       "      <td>40.0</td>\n",
       "      <td>0.99574</td>\n",
       "      <td>3.42</td>\n",
       "      <td>0.75</td>\n",
       "      <td>11.0</td>\n",
       "      <td>6</td>\n",
       "    </tr>\n",
       "    <tr>\n",
       "      <td>1597</td>\n",
       "      <td>5.9</td>\n",
       "      <td>0.645</td>\n",
       "      <td>0.12</td>\n",
       "      <td>2.0</td>\n",
       "      <td>0.075</td>\n",
       "      <td>32.0</td>\n",
       "      <td>44.0</td>\n",
       "      <td>0.99547</td>\n",
       "      <td>3.57</td>\n",
       "      <td>0.71</td>\n",
       "      <td>10.2</td>\n",
       "      <td>5</td>\n",
       "    </tr>\n",
       "    <tr>\n",
       "      <td>1598</td>\n",
       "      <td>6.0</td>\n",
       "      <td>0.310</td>\n",
       "      <td>0.47</td>\n",
       "      <td>3.6</td>\n",
       "      <td>0.067</td>\n",
       "      <td>18.0</td>\n",
       "      <td>42.0</td>\n",
       "      <td>0.99549</td>\n",
       "      <td>3.39</td>\n",
       "      <td>0.66</td>\n",
       "      <td>11.0</td>\n",
       "      <td>6</td>\n",
       "    </tr>\n",
       "  </tbody>\n",
       "</table>\n",
       "<p>1599 rows × 12 columns</p>\n",
       "</div>"
      ],
      "text/plain": [
       "      fixed acidity  volatile acidity  citric acid  residual sugar  chlorides  \\\n",
       "0               7.4             0.700         0.00             1.9      0.076   \n",
       "1               7.8             0.880         0.00             2.6      0.098   \n",
       "2               7.8             0.760         0.04             2.3      0.092   \n",
       "3              11.2             0.280         0.56             1.9      0.075   \n",
       "4               7.4             0.700         0.00             1.9      0.076   \n",
       "...             ...               ...          ...             ...        ...   \n",
       "1594            6.2             0.600         0.08             2.0      0.090   \n",
       "1595            5.9             0.550         0.10             2.2      0.062   \n",
       "1596            6.3             0.510         0.13             2.3      0.076   \n",
       "1597            5.9             0.645         0.12             2.0      0.075   \n",
       "1598            6.0             0.310         0.47             3.6      0.067   \n",
       "\n",
       "      free sulfur dioxide  total sulfur dioxide  density    pH  sulphates  \\\n",
       "0                    11.0                  34.0  0.99780  3.51       0.56   \n",
       "1                    25.0                  67.0  0.99680  3.20       0.68   \n",
       "2                    15.0                  54.0  0.99700  3.26       0.65   \n",
       "3                    17.0                  60.0  0.99800  3.16       0.58   \n",
       "4                    11.0                  34.0  0.99780  3.51       0.56   \n",
       "...                   ...                   ...      ...   ...        ...   \n",
       "1594                 32.0                  44.0  0.99490  3.45       0.58   \n",
       "1595                 39.0                  51.0  0.99512  3.52       0.76   \n",
       "1596                 29.0                  40.0  0.99574  3.42       0.75   \n",
       "1597                 32.0                  44.0  0.99547  3.57       0.71   \n",
       "1598                 18.0                  42.0  0.99549  3.39       0.66   \n",
       "\n",
       "      alcohol  quality  \n",
       "0         9.4        5  \n",
       "1         9.8        5  \n",
       "2         9.8        5  \n",
       "3         9.8        6  \n",
       "4         9.4        5  \n",
       "...       ...      ...  \n",
       "1594     10.5        5  \n",
       "1595     11.2        6  \n",
       "1596     11.0        6  \n",
       "1597     10.2        5  \n",
       "1598     11.0        6  \n",
       "\n",
       "[1599 rows x 12 columns]"
      ]
     },
     "execution_count": 3,
     "metadata": {},
     "output_type": "execute_result"
    }
   ],
   "source": [
    "wine_df"
   ]
  },
  {
   "cell_type": "markdown",
   "metadata": {},
   "source": [
    "### Data Exploration\n",
    "\n",
    "#### Missing Values\n"
   ]
  },
  {
   "cell_type": "code",
   "execution_count": 4,
   "metadata": {},
   "outputs": [
    {
     "name": "stdout",
     "output_type": "stream",
     "text": [
      "No missing values!\n"
     ]
    }
   ],
   "source": [
    "n=0\n",
    "for col in wine_df.columns:\n",
    "    missing = wine_df[col].isnull().sum()\n",
    "    \n",
    "    if missing > 0:\n",
    "        print(f' {col} is missing {missing} values')\n",
    "        n=1\n",
    "        \n",
    "if n==0:\n",
    "    print('No missing values!')"
   ]
  },
  {
   "cell_type": "markdown",
   "metadata": {},
   "source": [
    "#### Distributions"
   ]
  },
  {
   "cell_type": "code",
   "execution_count": 5,
   "metadata": {},
   "outputs": [
    {
     "data": {
      "image/png": "[encoded data removed]",
      "text/plain": [
       "<Figure size 432x288 with 1 Axes>"
      ]
     },
     "metadata": {
      "needs_background": "light"
     },
     "output_type": "display_data"
    }
   ],
   "source": [
    "column = 0\n",
    "wine_df[wine_df.columns[column]].plot.hist()\n",
    "plt.title(f'{wine_df.columns[column]} distribution')\n",
    "_=plt.xlabel('Values')"
   ]
  },
  {
   "cell_type": "code",
   "execution_count": 6,
   "metadata": {},
   "outputs": [
    {
     "data": {
      "image/png": "[encoded data removed]",
      "text/plain": [
       "<Figure size 432x288 with 1 Axes>"
      ]
     },
     "metadata": {
      "needs_background": "light"
     },
     "output_type": "display_data"
    }
   ],
   "source": [
    "column = 1\n",
    "wine_df[wine_df.columns[column]].plot.hist()\n",
    "plt.title(f'{wine_df.columns[column]} distribution')\n",
    "_=plt.xlabel('Values')"
   ]
  },
  {
   "cell_type": "code",
   "execution_count": 7,
   "metadata": {},
   "outputs": [
    {
     "data": {
      "image/png": "[encoded data removed]",
      "text/plain": [
       "<Figure size 432x288 with 1 Axes>"
      ]
     },
     "metadata": {
      "needs_background": "light"
     },
     "output_type": "display_data"
    }
   ],
   "source": [
    "column = 2\n",
    "wine_df[wine_df.columns[column]].plot.hist()\n",
    "plt.title(f'{wine_df.columns[column]} distribution')\n",
    "_=plt.xlabel('Values')"
   ]
  },
  {
   "cell_type": "code",
   "execution_count": 8,
   "metadata": {},
   "outputs": [
    {
     "data": {
      "image/png": "[encoded data removed]",
      "text/plain": [
       "<Figure size 432x288 with 1 Axes>"
      ]
     },
     "metadata": {
      "needs_background": "light"
     },
     "output_type": "display_data"
    }
   ],
   "source": [
    "column = 3\n",
    "wine_df[wine_df.columns[column]].plot.hist()\n",
    "plt.title(f'{wine_df.columns[column]} distribution')\n",
    "_=plt.xlabel('Values')"
   ]
  },
  {
   "cell_type": "code",
   "execution_count": 9,
   "metadata": {},
   "outputs": [
    {
     "data": {
      "image/png": "[encoded data removed]",
      "text/plain": [
       "<Figure size 432x288 with 1 Axes>"
      ]
     },
     "metadata": {
      "needs_background": "light"
     },
     "output_type": "display_data"
    }
   ],
   "source": [
    "column = 4\n",
    "wine_df[wine_df.columns[column]].plot.hist()\n",
    "plt.title(f'{wine_df.columns[column]} distribution')\n",
    "_=plt.xlabel('Values')"
   ]
  },
  {
   "cell_type": "code",
   "execution_count": 10,
   "metadata": {},
   "outputs": [
    {
     "data": {
      "image/png": "[encoded data removed]",
      "text/plain": [
       "<Figure size 432x288 with 1 Axes>"
      ]
     },
     "metadata": {
      "needs_background": "light"
     },
     "output_type": "display_data"
    }
   ],
   "source": [
    "column = 5\n",
    "wine_df[wine_df.columns[column]].plot.hist()\n",
    "plt.title(f'{wine_df.columns[column]} distribution')\n",
    "_=plt.xlabel('Values')"
   ]
  },
  {
   "cell_type": "code",
   "execution_count": 11,
   "metadata": {},
   "outputs": [
    {
     "data": {
      "image/png": "[encoded data removed]",
      "text/plain": [
       "<Figure size 432x288 with 1 Axes>"
      ]
     },
     "metadata": {
      "needs_background": "light"
     },
     "output_type": "display_data"
    }
   ],
   "source": [
    "column = 6\n",
    "wine_df[wine_df.columns[column]].plot.hist()\n",
    "plt.title(f'{wine_df.columns[column]} distribution')\n",
    "_=plt.xlabel('Values')"
   ]
  },
  {
   "cell_type": "code",
   "execution_count": 12,
   "metadata": {},
   "outputs": [
    {
     "data": {
      "image/png": "[encoded data removed]",
      "text/plain": [
       "<Figure size 432x288 with 1 Axes>"
      ]
     },
     "metadata": {
      "needs_background": "light"
     },
     "output_type": "display_data"
    }
   ],
   "source": [
    "column = 7\n",
    "wine_df[wine_df.columns[column]].plot.hist()\n",
    "plt.title(f'{wine_df.columns[column]} distribution')\n",
    "_=plt.xlabel('Values')"
   ]
  },
  {
   "cell_type": "code",
   "execution_count": 13,
   "metadata": {},
   "outputs": [
    {
     "data": {
      "image/png": "[encoded data removed]",
      "text/plain": [
       "<Figure size 432x288 with 1 Axes>"
      ]
     },
     "metadata": {
      "needs_background": "light"
     },
     "output_type": "display_data"
    }
   ],
   "source": [
    "column = 8\n",
    "wine_df[wine_df.columns[column]].plot.hist()\n",
    "plt.title(f'{wine_df.columns[column]} distribution')\n",
    "_=plt.xlabel('Values')"
   ]
  },
  {
   "cell_type": "code",
   "execution_count": 14,
   "metadata": {},
   "outputs": [
    {
     "data": {
      "image/png": "[encoded data removed]",
      "text/plain": [
       "<Figure size 432x288 with 1 Axes>"
      ]
     },
     "metadata": {
      "needs_background": "light"
     },
     "output_type": "display_data"
    }
   ],
   "source": [
    "column = 9\n",
    "wine_df[wine_df.columns[column]].plot.hist()\n",
    "plt.title(f'{wine_df.columns[column]} distribution')\n",
    "_=plt.xlabel('Values')"
   ]
  },
  {
   "cell_type": "code",
   "execution_count": 15,
   "metadata": {},
   "outputs": [
    {
     "data": {
      "image/png": "[encoded data removed]",
      "text/plain": [
       "<Figure size 432x288 with 1 Axes>"
      ]
     },
     "metadata": {
      "needs_background": "light"
     },
     "output_type": "display_data"
    }
   ],
   "source": [
    "column = 10\n",
    "wine_df[wine_df.columns[column]].plot.hist()\n",
    "plt.title(f'{wine_df.columns[column]} distribution')\n",
    "_=plt.xlabel('Values')"
   ]
  },
  {
   "cell_type": "code",
   "execution_count": 30,
   "metadata": {},
   "outputs": [
    {
     "data": {
      "text/plain": [
       "6"
      ]
     },
     "execution_count": 30,
     "metadata": {},
     "output_type": "execute_result"
    },
    {
     "data": {
      "image/png": "[encoded data removed]",
      "text/plain": [
       "<Figure size 432x288 with 1 Axes>"
      ]
     },
     "metadata": {
      "needs_background": "light"
     },
     "output_type": "display_data"
    }
   ],
   "source": [
    "column = 11\n",
    "wine_df[wine_df.columns[column]].plot.hist()\n",
    "plt.title(f'{wine_df.columns[column]} distribution')\n",
    "_=plt.xlabel('Values')\n",
    "\n",
    "wine_df[wine_df.columns[column]].nunique()"
   ]
  },
  {
   "cell_type": "markdown",
   "metadata": {},
   "source": [
    "## Prepare the Dataset"
   ]
  },
  {
   "cell_type": "code",
   "execution_count": 34,
   "metadata": {},
   "outputs": [],
   "source": [
    "def min_max_normalize_df(dataframe, exclude_fields=[]):\n",
    "    '''\n",
    "    This function takes in a dataframe and normalizes columns between -1 and 1 based on their min/max values.\n",
    "    \n",
    "    Inputs -\n",
    "    dataframe: the dataframe to be transformed\n",
    "    exclude_fields: list of columns that should not be normalized\n",
    "    \n",
    "    Returns -\n",
    "    new_df: copy of input dataframe with normalized columns (except for columns in exclude_fields)\n",
    "    '''\n",
    "    #Copy input df\n",
    "    new_df = dataframe.copy()\n",
    "    \n",
    "    #Get list of usable columns    \n",
    "    included_columns = [x for x in new_df.columns if x not in exclude_fields]\n",
    "    \n",
    "    #Iterate through included columns and normalize the fields column-wise\n",
    "    for col in included_columns:\n",
    "        minimum, maximum = dataframe[col].min(), dataframe[col].max()\n",
    "        new_df[col] = new_df[col].apply(lambda x: ((x-minimum)/(maximum-minimum)) * 2 - 1)\n",
    "        \n",
    "    return new_df"
   ]
  },
  {
   "cell_type": "code",
   "execution_count": 35,
   "metadata": {},
   "outputs": [],
   "source": [
    "wine_df = min_max_normalize_df(wine_df, ['quality'])"
   ]
  },
  {
   "cell_type": "code",
   "execution_count": 36,
   "metadata": {},
   "outputs": [],
   "source": [
    "#Split into training, validation, and testing dataframes\n",
    "intermediate_df = wine_df.sample(frac=0.8)\n",
    "train_df = intermediate_df.sample(frac=0.6)\n",
    "val_df = intermediate_df[~intermediate_df.isin(train_df)].dropna()\n",
    "test_df = wine_df[~wine_df.isin(intermediate_df)].dropna()\n",
    "\n",
    "#Little helper function for converting to tensors\n",
    "def to_tensor(df):\n",
    "    df = torch.tensor(df.values.astype(np.float32))\n",
    "    return df\n",
    "\n",
    "train_x = to_tensor(train_df.drop('quality', axis=1))\n",
    "train_y = to_tensor(train_df['quality'])\n",
    "\n",
    "val_x = to_tensor(val_df.drop('quality', axis=1))\n",
    "val_y = to_tensor(val_df['quality'])\n",
    "\n",
    "test_x = to_tensor(test_df.drop('quality', axis=1))\n",
    "test_y = to_tensor(test_df['quality'])"
   ]
  },
  {
   "cell_type": "code",
   "execution_count": 37,
   "metadata": {},
   "outputs": [],
   "source": [
    "batch_size = 1\n",
    "\n",
    "train_tensor = torch.utils.data.TensorDataset(train_x, train_y) \n",
    "train_loader = torch.utils.data.DataLoader(dataset = train_tensor, batch_size = batch_size, shuffle = True)\n",
    "\n",
    "val_tensor = torch.utils.data.TensorDataset(val_x, val_y) \n",
    "val_loader = torch.utils.data.DataLoader(dataset = val_tensor, batch_size = batch_size, shuffle = True)\n",
    "\n",
    "test_tensor = torch.utils.data.TensorDataset(test_x, test_y) \n",
    "test_loader = torch.utils.data.DataLoader(dataset = test_tensor, batch_size = 1, shuffle = True)"
   ]
  },
  {
   "cell_type": "code",
   "execution_count": 43,
   "metadata": {},
   "outputs": [],
   "source": [
    "import torch.nn as nn\n",
    "import torch.nn.functional as F\n",
    "\n",
    "class DNN(nn.Module):\n",
    "    def __init__(self, dense_dim):\n",
    "        super(DNN, self).__init__()\n",
    "        \n",
    "        #Input Layer\n",
    "        self.fcn1 = nn.Linear(11, dense_dim)\n",
    "        \n",
    "        #Hidden Layers\n",
    "        self.fcn2 = nn.Linear(dense_dim, 2*dense_dim)\n",
    "        self.fcn4 = nn.Linear(2*dense_dim, dense_dim)\n",
    "        \n",
    "        #Output Layer\n",
    "        self.fcn5 = nn.Linear(dense_dim, 1)\n",
    "        \n",
    "        self.drop = nn.Dropout(0.2)\n",
    "                \n",
    "    def forward(self, x):\n",
    "        x = (F.relu(self.fcn1(x)))\n",
    "        \n",
    "        x = self.drop(F.relu(self.fcn2(x)))\n",
    "        #x = self.drop(F.relu(self.fcn3(x)))\n",
    "        x = (F.relu(self.fcn4(x)))\n",
    "        \n",
    "        x = self.fcn5(x)\n",
    "        \n",
    "        x = x.view(-1)\n",
    "        \n",
    "        return x"
   ]
  },
  {
   "cell_type": "code",
   "execution_count": 48,
   "metadata": {},
   "outputs": [],
   "source": [
    "import torch.optim as optim\n",
    "\n",
    "def train(epochs, model):\n",
    "    \n",
    "    criterion = nn.MSELoss()\n",
    "    optimizer = optim.Adam(model.parameters(), lr=0.01)\n",
    "    \n",
    "    model.train()\n",
    "    batch_loss = []\n",
    "    other_batch_loss = []\n",
    "    \n",
    "    train_history = []\n",
    "    val_history = []\n",
    "    \n",
    "    prev_loss = np.inf\n",
    "    \n",
    "    for epoch in range(1, epochs+1):\n",
    "        for batch, (x,y) in enumerate(train_loader, 0):\n",
    "            model.train()\n",
    "            model.zero_grad()\n",
    "            \n",
    "            prediction = model(x)\n",
    "            \n",
    "            loss = criterion(prediction, y)\n",
    "            loss.backward()\n",
    "            optimizer.step()\n",
    "            \n",
    "            batch_loss.append(loss.data.numpy())\n",
    "        \n",
    "\n",
    "        for batch, (x,y) in enumerate(val_loader, 0):\n",
    "            with torch.no_grad():\n",
    "                model.eval()\n",
    "\n",
    "                other_prediction = model(x)\n",
    "\n",
    "                other_loss = criterion(other_prediction, y)\n",
    "\n",
    "                other_batch_loss.append(other_loss.data.numpy())\n",
    "\n",
    "        new_loss = round(float(np.average(batch_loss)), 5)\n",
    "        val_loss = float(np.average(other_batch_loss))\n",
    "        \n",
    "        train_history.append(new_loss)\n",
    "        val_history.append(val_loss)\n",
    "        \n",
    "        if epoch%10==0:\n",
    "            print('Epoch: ' + str(epoch))\n",
    "            print(f'Loss: {prev_loss} ----> {new_loss}')\n",
    "        \n",
    "        prev_loss = new_loss\n",
    "    \n",
    "    fig, axe = plt.subplots()\n",
    "    plt.plot(train_history, label='Training')\n",
    "    plt.plot(val_history, label='Validation')\n",
    "    plt.legend()\n",
    "    \n",
    "    return model\n",
    "            "
   ]
  },
  {
   "cell_type": "code",
   "execution_count": 49,
   "metadata": {},
   "outputs": [
    {
     "name": "stdout",
     "output_type": "stream",
     "text": [
      "Epoch: 10\n",
      "Loss: 0.74182 ----> 0.72064\n",
      "Epoch: 20\n",
      "Loss: 0.6074 ----> 0.60056\n",
      "Epoch: 30\n",
      "Loss: 0.556 ----> 0.55268\n",
      "Epoch: 40\n",
      "Loss: 0.52601 ----> 0.5236\n",
      "Epoch: 50\n",
      "Loss: 0.5067 ----> 0.50518\n",
      "Epoch: 60\n",
      "Loss: 0.49256 ----> 0.49138\n",
      "Epoch: 70\n",
      "Loss: 0.48234 ----> 0.48198\n",
      "Epoch: 80\n",
      "Loss: 0.47575 ----> 0.47492\n",
      "Epoch: 90\n",
      "Loss: 0.47031 ----> 0.46976\n",
      "Epoch: 100\n",
      "Loss: 0.46574 ----> 0.46519\n"
     ]
    },
    {
     "data": {
      "image/png": "[encoded data removed]",
      "text/plain": [
       "<Figure size 432x288 with 1 Axes>"
      ]
     },
     "metadata": {
      "needs_background": "light"
     },
     "output_type": "display_data"
    }
   ],
   "source": [
    "classifier = train(100, DNN(200))"
   ]
  },
  {
   "cell_type": "code",
   "execution_count": 50,
   "metadata": {},
   "outputs": [],
   "source": [
    "def test_model(dataloader):\n",
    "    classifier.eval()\n",
    "    \n",
    "    prediction = []\n",
    "    real = []\n",
    "    \n",
    "    for batch, (x,y) in enumerate(dataloader, 0):\n",
    "        prediction.append(classifier(x).item())\n",
    "        real.append(y.item())\n",
    "    dataframe = pd.DataFrame([np.array(real).reshape(-1,),\n",
    "                              np.array(prediction).reshape(-1,)])\n",
    "    \n",
    "    return dataframe.T"
   ]
  },
  {
   "cell_type": "code",
   "execution_count": 51,
   "metadata": {},
   "outputs": [
    {
     "data": {
      "text/html": [
       "<div>\n",
       "<style scoped>\n",
       "    .dataframe tbody tr th:only-of-type {\n",
       "        vertical-align: middle;\n",
       "    }\n",
       "\n",
       "    .dataframe tbody tr th {\n",
       "        vertical-align: top;\n",
       "    }\n",
       "\n",
       "    .dataframe thead th {\n",
       "        text-align: right;\n",
       "    }\n",
       "</style>\n",
       "<table border=\"1\" class=\"dataframe\">\n",
       "  <thead>\n",
       "    <tr style=\"text-align: right;\">\n",
       "      <th></th>\n",
       "      <th>0</th>\n",
       "      <th>1</th>\n",
       "    </tr>\n",
       "  </thead>\n",
       "  <tbody>\n",
       "    <tr>\n",
       "      <td>0</td>\n",
       "      <td>5.0</td>\n",
       "      <td>5.294981</td>\n",
       "    </tr>\n",
       "    <tr>\n",
       "      <td>1</td>\n",
       "      <td>5.0</td>\n",
       "      <td>5.162532</td>\n",
       "    </tr>\n",
       "    <tr>\n",
       "      <td>2</td>\n",
       "      <td>7.0</td>\n",
       "      <td>5.727668</td>\n",
       "    </tr>\n",
       "    <tr>\n",
       "      <td>3</td>\n",
       "      <td>7.0</td>\n",
       "      <td>5.985777</td>\n",
       "    </tr>\n",
       "    <tr>\n",
       "      <td>4</td>\n",
       "      <td>6.0</td>\n",
       "      <td>5.931182</td>\n",
       "    </tr>\n",
       "    <tr>\n",
       "      <td>...</td>\n",
       "      <td>...</td>\n",
       "      <td>...</td>\n",
       "    </tr>\n",
       "    <tr>\n",
       "      <td>315</td>\n",
       "      <td>6.0</td>\n",
       "      <td>6.232430</td>\n",
       "    </tr>\n",
       "    <tr>\n",
       "      <td>316</td>\n",
       "      <td>5.0</td>\n",
       "      <td>5.162532</td>\n",
       "    </tr>\n",
       "    <tr>\n",
       "      <td>317</td>\n",
       "      <td>6.0</td>\n",
       "      <td>5.702014</td>\n",
       "    </tr>\n",
       "    <tr>\n",
       "      <td>318</td>\n",
       "      <td>6.0</td>\n",
       "      <td>5.627409</td>\n",
       "    </tr>\n",
       "    <tr>\n",
       "      <td>319</td>\n",
       "      <td>5.0</td>\n",
       "      <td>5.162532</td>\n",
       "    </tr>\n",
       "  </tbody>\n",
       "</table>\n",
       "<p>320 rows × 2 columns</p>\n",
       "</div>"
      ],
      "text/plain": [
       "       0         1\n",
       "0    5.0  5.294981\n",
       "1    5.0  5.162532\n",
       "2    7.0  5.727668\n",
       "3    7.0  5.985777\n",
       "4    6.0  5.931182\n",
       "..   ...       ...\n",
       "315  6.0  6.232430\n",
       "316  5.0  5.162532\n",
       "317  6.0  5.702014\n",
       "318  6.0  5.627409\n",
       "319  5.0  5.162532\n",
       "\n",
       "[320 rows x 2 columns]"
      ]
     },
     "execution_count": 51,
     "metadata": {},
     "output_type": "execute_result"
    }
   ],
   "source": [
    "prediction = test_model(test_loader)\n",
    "prediction"
   ]
  },
  {
   "cell_type": "code",
   "execution_count": 62,
   "metadata": {},
   "outputs": [],
   "source": [
    "explain = GradientExplainer(classifier, train_x)"
   ]
  },
  {
   "cell_type": "code",
   "execution_count": 66,
   "metadata": {},
   "outputs": [
    {
     "data": {
      "text/plain": [
       "<shap.explainers.gradient.GradientExplainer at 0x25eb3ad6348>"
      ]
     },
     "execution_count": 66,
     "metadata": {},
     "output_type": "execute_result"
    }
   ],
   "source": [
    "explain"
   ]
  },
  {
   "cell_type": "code",
   "execution_count": null,
   "metadata": {},
   "outputs": [],
   "source": []
  }
 ],
 "metadata": {
  "kernelspec": {
   "display_name": "Python 3",
   "language": "python",
   "name": "python3"
  },
  "language_info": {
   "codemirror_mode": {
    "name": "ipython",
    "version": 3
   },
   "file_extension": ".py",
   "mimetype": "text/x-python",
   "name": "python",
   "nbconvert_exporter": "python",
   "pygments_lexer": "ipython3",
   "version": "3.7.4"
  }
 },
 "nbformat": 4,
 "nbformat_minor": 4
}
